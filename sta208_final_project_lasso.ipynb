{
 "cells": [
  {
   "cell_type": "code",
   "execution_count": 112,
   "id": "47df6088",
   "metadata": {},
   "outputs": [],
   "source": [
    "import pandas as pd\n",
    "import numpy as np\n",
    "\n",
    "from matplotlib import pyplot as plt\n",
    "\n",
    "from sklearn.linear_model import Lasso, LassoCV\n",
    "from sklearn.model_selection import train_test_split\n",
    "from sklearn.model_selection import cross_validate"
   ]
  },
  {
   "cell_type": "code",
   "execution_count": 113,
   "id": "0add58d4",
   "metadata": {},
   "outputs": [],
   "source": [
    "df = pd.read_csv('data/train_processed.csv')"
   ]
  },
  {
   "cell_type": "code",
   "execution_count": 114,
   "id": "af333325",
   "metadata": {},
   "outputs": [],
   "source": [
    "feats = list(set(df.columns) - set(['logSalePrice', 'SalePrice']))"
   ]
  },
  {
   "cell_type": "code",
   "execution_count": 115,
   "id": "42cb5560",
   "metadata": {},
   "outputs": [],
   "source": [
    "df_normalized[feats] = (df[feats] - df[feats].mean()) / df[feats].std()\n",
    "df_normalized['logSalePrice'] = df['logSalePrice']\n",
    "df_normalized['SalePrice'] = df['SalePrice']"
   ]
  },
  {
   "cell_type": "code",
   "execution_count": 160,
   "id": "85fd4bf8",
   "metadata": {},
   "outputs": [
    {
     "data": {
      "text/plain": [
       "LassoCV(alphas=array([0.00031623, 0.00032359, 0.00033113, 0.00033884, 0.00034674,\n",
       "       0.00035481, 0.00036308, 0.00037154, 0.00038019, 0.00038905,\n",
       "       0.00039811, 0.00040738, 0.00041687, 0.00042658, 0.00043652,\n",
       "       0.00044668, 0.00045709, 0.00046774, 0.00047863, 0.00048978,\n",
       "       0.00050119, 0.00051286, 0.00052481, 0.00053703, 0.00054954,\n",
       "       0.00056234, 0.00057544, 0.00058884, 0.00060256, 0.0006166...\n",
       "       0.00079433, 0.00081283, 0.00083176, 0.00085114, 0.00087096,\n",
       "       0.00089125, 0.00091201, 0.00093325, 0.00095499, 0.00097724,\n",
       "       0.001     , 0.00102329, 0.00104713, 0.00107152, 0.00109648,\n",
       "       0.00112202, 0.00114815, 0.0011749 , 0.00120226, 0.00123027,\n",
       "       0.00125893, 0.00128825, 0.00131826, 0.00134896, 0.00138038,\n",
       "       0.00141254, 0.00144544, 0.00147911, 0.00151356, 0.00154882,\n",
       "       0.00158489]),\n",
       "        cv=5, random_state=0)"
      ]
     },
     "execution_count": 160,
     "metadata": {},
     "output_type": "execute_result"
    }
   ],
   "source": [
    "lasso_cv = LassoCV(cv=5, random_state=0, alphas=10 ** np.arange(-3.5, -2.8, 0.01))\n",
    "lasso_cv.fit(df_normalized[feats], df_normalized['logSalePrice'])"
   ]
  },
  {
   "cell_type": "code",
   "execution_count": 161,
   "id": "aaf90524",
   "metadata": {},
   "outputs": [
    {
     "data": {
      "text/plain": [
       "array([0.00158489, 0.00154882, 0.00151356, 0.00147911, 0.00144544,\n",
       "       0.00141254, 0.00138038, 0.00134896, 0.00131826, 0.00128825,\n",
       "       0.00125893, 0.00123027, 0.00120226, 0.0011749 , 0.00114815,\n",
       "       0.00112202, 0.00109648, 0.00107152, 0.00104713, 0.00102329,\n",
       "       0.001     , 0.00097724, 0.00095499, 0.00093325, 0.00091201,\n",
       "       0.00089125, 0.00087096, 0.00085114, 0.00083176, 0.00081283,\n",
       "       0.00079433, 0.00077625, 0.00075858, 0.00074131, 0.00072444,\n",
       "       0.00070795, 0.00069183, 0.00067608, 0.00066069, 0.00064565,\n",
       "       0.00063096, 0.0006166 , 0.00060256, 0.00058884, 0.00057544,\n",
       "       0.00056234, 0.00054954, 0.00053703, 0.00052481, 0.00051286,\n",
       "       0.00050119, 0.00048978, 0.00047863, 0.00046774, 0.00045709,\n",
       "       0.00044668, 0.00043652, 0.00042658, 0.00041687, 0.00040738,\n",
       "       0.00039811, 0.00038905, 0.00038019, 0.00037154, 0.00036308,\n",
       "       0.00035481, 0.00034674, 0.00033884, 0.00033113, 0.00032359,\n",
       "       0.00031623])"
      ]
     },
     "execution_count": 161,
     "metadata": {},
     "output_type": "execute_result"
    }
   ],
   "source": [
    "lasso_cv.alphas_"
   ]
  },
  {
   "cell_type": "code",
   "execution_count": 162,
   "id": "253fcda6",
   "metadata": {},
   "outputs": [
    {
     "data": {
      "text/plain": [
       "0.0009549925860214135"
      ]
     },
     "execution_count": 162,
     "metadata": {},
     "output_type": "execute_result"
    }
   ],
   "source": [
    "lasso_cv.alpha_"
   ]
  },
  {
   "cell_type": "code",
   "execution_count": 163,
   "id": "bef1f602",
   "metadata": {},
   "outputs": [],
   "source": [
    "mse_path_df = pd.DataFrame({\n",
    "    'alpha': lasso_cv.alphas_,\n",
    "    'mse': np.mean(lasso_cv.mse_path_, axis=1)\n",
    "})"
   ]
  },
  {
   "cell_type": "code",
   "execution_count": 164,
   "id": "de6b7344",
   "metadata": {},
   "outputs": [
    {
     "data": {
      "text/plain": [
       "[<matplotlib.lines.Line2D at 0x7f47c641d0d0>]"
      ]
     },
     "execution_count": 164,
     "metadata": {},
     "output_type": "execute_result"
    },
    {
     "data": {
      "image/png": "[encoded data removed]",
      "text/plain": [
       "<Figure size 432x288 with 1 Axes>"
      ]
     },
     "metadata": {
      "needs_background": "light"
     },
     "output_type": "display_data"
    }
   ],
   "source": [
    "plt.plot(mse_path_df['alpha'], mse_path_df['mse'], '.-')"
   ]
  },
  {
   "cell_type": "code",
   "execution_count": null,
   "id": "04ca1c77",
   "metadata": {},
   "outputs": [],
   "source": []
  }
 ],
 "metadata": {
  "kernelspec": {
   "display_name": "Python 3 (ipykernel)",
   "language": "python",
   "name": "python3"
  },
  "language_info": {
   "codemirror_mode": {
    "name": "ipython",
    "version": 3
   },
   "file_extension": ".py",
   "mimetype": "text/x-python",
   "name": "python",
   "nbconvert_exporter": "python",
   "pygments_lexer": "ipython3",
   "version": "3.9.5"
  }
 },
 "nbformat": 4,
 "nbformat_minor": 5
}

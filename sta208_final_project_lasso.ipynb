{
 "cells": [
  {
   "cell_type": "code",
   "execution_count": 112,
   "id": "c730d291",
   "metadata": {},
   "outputs": [],
   "source": [
    "import pandas as pd\n",
    "import numpy as np\n",
    "\n",
    "from matplotlib import pyplot as plt\n",
    "\n",
    "from sklearn.linear_model import Lasso, LassoCV\n",
    "from sklearn.model_selection import train_test_split\n",
    "from sklearn.model_selection import cross_validate"
   ]
  },
  {
   "cell_type": "code",
   "execution_count": 113,
   "id": "2d8686e3",
   "metadata": {},
   "outputs": [],
   "source": [
    "df = pd.read_csv('data/train_processed.csv')"
   ]
  },
  {
   "cell_type": "code",
   "execution_count": 114,
   "id": "39b01f36",
   "metadata": {},
   "outputs": [],
   "source": [
    "# Normalize the features\n",
    "\n",
    "feats = list(set(df.columns) - set(['logSalePrice', 'SalePrice']))\n",
    "df_normalized[feats] = (df[feats] - df[feats].mean()) / df[feats].std()\n",
    "df_normalized['logSalePrice'] = df['logSalePrice']\n",
    "df_normalized['SalePrice'] = df['SalePrice']"
   ]
  },
  {
   "cell_type": "code",
   "execution_count": 223,
   "id": "d2869ce1",
   "metadata": {},
   "outputs": [],
   "source": [
    "def train_and_predict(df, feats, target, is_log_transformed=True):\n",
    "    X_train, X_test, y_train, y_test = train_test_split(\n",
    "        df[feats], df[target], test_size=0.3, random_state=208)\n",
    "\n",
    "    lasso_cv = LassoCV(cv=10, random_state=209, alphas=10 ** np.arange(-3.5, -2.0, 0.01))\n",
    "    lasso_cv.fit(X_train, y_train)\n",
    "\n",
    "    mse_path_df = pd.DataFrame({\n",
    "        'alpha': lasso_cv.alphas_,\n",
    "        'mse': np.mean(lasso_cv.mse_path_, axis=1)\n",
    "    })\n",
    "\n",
    "    pred_test = lasso_cv.predict(X_test)\n",
    "    if is_log_transformed:\n",
    "        pred_test = np.exp(pred_test)\n",
    "        y_test = np.exp(y_test)\n",
    "    \n",
    "    rmse = np.sqrt(np.mean(np.square(pred_test - y_test)))\n",
    "    mape = np.mean(np.abs(pred_test - y_test) / y_test)\n",
    "    \n",
    "    return {\n",
    "        'mse_path': mse_path_df,\n",
    "        'pred_test': pred_test,\n",
    "        'X_test': X_test,  # return X_test for debugging purpose\n",
    "        'y_test': y_test,\n",
    "        'rmse': rmse,\n",
    "        'mape': mape\n",
    "    }"
   ]
  },
  {
   "cell_type": "code",
   "execution_count": 224,
   "id": "94c1b5d7",
   "metadata": {},
   "outputs": [],
   "source": [
    "res = train_and_predict(df_normalized, feats, 'logSalePrice', is_log_transformed=True)"
   ]
  },
  {
   "cell_type": "code",
   "execution_count": 225,
   "id": "3ead918a",
   "metadata": {},
   "outputs": [
    {
     "data": {
      "text/plain": [
       "[<matplotlib.lines.Line2D at 0x7f47c65eb2e0>]"
      ]
     },
     "execution_count": 225,
     "metadata": {},
     "output_type": "execute_result"
    },
    {
     "data": {
      "image/png": "[encoded data removed]",
      "text/plain": [
       "<Figure size 432x288 with 1 Axes>"
      ]
     },
     "metadata": {
      "needs_background": "light"
     },
     "output_type": "display_data"
    }
   ],
   "source": [
    "plt.plot(res['pred_test'], res['y_test'], '.')"
   ]
  },
  {
   "cell_type": "code",
   "execution_count": 232,
   "id": "34f78af2",
   "metadata": {},
   "outputs": [
    {
     "data": {
      "text/html": [
       "<div>\n",
       "<style scoped>\n",
       "    .dataframe tbody tr th:only-of-type {\n",
       "        vertical-align: middle;\n",
       "    }\n",
       "\n",
       "    .dataframe tbody tr th {\n",
       "        vertical-align: top;\n",
       "    }\n",
       "\n",
       "    .dataframe thead th {\n",
       "        text-align: right;\n",
       "    }\n",
       "</style>\n",
       "<table border=\"1\" class=\"dataframe\">\n",
       "  <thead>\n",
       "    <tr style=\"text-align: right;\">\n",
       "      <th></th>\n",
       "      <th>SaleType_ConLD</th>\n",
       "      <th>ExterCond_Fa</th>\n",
       "      <th>RoofStyle_Gable</th>\n",
       "      <th>RoofStyle_Gambrel</th>\n",
       "      <th>LotConfig_FR3</th>\n",
       "      <th>Exterior_VinylSd</th>\n",
       "      <th>HeatingQC_Fa</th>\n",
       "      <th>Heating_OthW</th>\n",
       "      <th>LandSlope_Mod</th>\n",
       "      <th>Exterior_Plywood</th>\n",
       "      <th>...</th>\n",
       "      <th>Fence_Not exist</th>\n",
       "      <th>Neighborhood_SWISU</th>\n",
       "      <th>BsmtQual_Not exist</th>\n",
       "      <th>BsmtUnfSF</th>\n",
       "      <th>TotalBsmtSF</th>\n",
       "      <th>GarageArea</th>\n",
       "      <th>Neighborhood_NridgHt</th>\n",
       "      <th>Neighborhood_NPkVill</th>\n",
       "      <th>GarageQual_Po</th>\n",
       "      <th>MasVnrType_BrkFace</th>\n",
       "    </tr>\n",
       "  </thead>\n",
       "  <tbody>\n",
       "    <tr>\n",
       "      <th>1298</th>\n",
       "      <td>-0.07873</td>\n",
       "      <td>-0.139784</td>\n",
       "      <td>-1.890596</td>\n",
       "      <td>-0.087099</td>\n",
       "      <td>-0.052396</td>\n",
       "      <td>-0.740186</td>\n",
       "      <td>-0.186288</td>\n",
       "      <td>-0.037024</td>\n",
       "      <td>-0.215785</td>\n",
       "      <td>-0.343273</td>\n",
       "      <td>...</td>\n",
       "      <td>0.488031</td>\n",
       "      <td>-0.131946</td>\n",
       "      <td>-0.161194</td>\n",
       "      <td>-0.22912</td>\n",
       "      <td>11.517003</td>\n",
       "      <td>4.420012</td>\n",
       "      <td>-0.235877</td>\n",
       "      <td>-0.07873</td>\n",
       "      <td>-0.045361</td>\n",
       "      <td>-0.661909</td>\n",
       "    </tr>\n",
       "  </tbody>\n",
       "</table>\n",
       "<p>1 rows × 234 columns</p>\n",
       "</div>"
      ],
      "text/plain": [
       "      SaleType_ConLD  ExterCond_Fa  RoofStyle_Gable  RoofStyle_Gambrel  \\\n",
       "1298        -0.07873     -0.139784        -1.890596          -0.087099   \n",
       "\n",
       "      LotConfig_FR3  Exterior_VinylSd  HeatingQC_Fa  Heating_OthW  \\\n",
       "1298      -0.052396         -0.740186     -0.186288     -0.037024   \n",
       "\n",
       "      LandSlope_Mod  Exterior_Plywood  ...  Fence_Not exist  \\\n",
       "1298      -0.215785         -0.343273  ...         0.488031   \n",
       "\n",
       "      Neighborhood_SWISU  BsmtQual_Not exist  BsmtUnfSF  TotalBsmtSF  \\\n",
       "1298           -0.131946           -0.161194   -0.22912    11.517003   \n",
       "\n",
       "      GarageArea  Neighborhood_NridgHt  Neighborhood_NPkVill  GarageQual_Po  \\\n",
       "1298    4.420012             -0.235877              -0.07873      -0.045361   \n",
       "\n",
       "      MasVnrType_BrkFace  \n",
       "1298           -0.661909  \n",
       "\n",
       "[1 rows x 234 columns]"
      ]
     },
     "execution_count": 232,
     "metadata": {},
     "output_type": "execute_result"
    }
   ],
   "source": [
    "res['X_test'][res['pred_test'] > 1000000]"
   ]
  },
  {
   "cell_type": "code",
   "execution_count": null,
   "id": "1cc03a68",
   "metadata": {},
   "outputs": [],
   "source": []
  },
  {
   "cell_type": "code",
   "execution_count": 207,
   "id": "fd01242b",
   "metadata": {},
   "outputs": [
    {
     "data": {
      "text/plain": [
       "112518.41056607458"
      ]
     },
     "execution_count": 207,
     "metadata": {},
     "output_type": "execute_result"
    }
   ],
   "source": [
    "# Root Mean Squared Error\n",
    "res['rmse']"
   ]
  },
  {
   "cell_type": "code",
   "execution_count": 208,
   "id": "d5fab1b8",
   "metadata": {},
   "outputs": [
    {
     "data": {
      "text/plain": [
       "0.12468616414839145"
      ]
     },
     "execution_count": 208,
     "metadata": {},
     "output_type": "execute_result"
    }
   ],
   "source": [
    "# Mean Absolute Percentage Error\n",
    "res['mape']"
   ]
  },
  {
   "cell_type": "code",
   "execution_count": 210,
   "id": "32a62ea3",
   "metadata": {},
   "outputs": [
    {
     "data": {
      "text/plain": [
       "Text(0, 0.5, 'MSE')"
      ]
     },
     "execution_count": 210,
     "metadata": {},
     "output_type": "execute_result"
    },
    {
     "data": {
      "image/png": "[encoded data removed]",
      "text/plain": [
       "<Figure size 432x288 with 1 Axes>"
      ]
     },
     "metadata": {
      "needs_background": "light"
     },
     "output_type": "display_data"
    }
   ],
   "source": [
    "plt.plot(res['mse_path']['alpha'], res['mse_path']['mse'], '.-')\n",
    "plt.xlabel('Penalty Strength')\n",
    "plt.ylabel('MSE')"
   ]
  },
  {
   "cell_type": "code",
   "execution_count": null,
   "id": "7107040d",
   "metadata": {},
   "outputs": [],
   "source": []
  }
 ],
 "metadata": {
  "kernelspec": {
   "display_name": "Python 3 (ipykernel)",
   "language": "python",
   "name": "python3"
  },
  "language_info": {
   "codemirror_mode": {
    "name": "ipython",
    "version": 3
   },
   "file_extension": ".py",
   "mimetype": "text/x-python",
   "name": "python",
   "nbconvert_exporter": "python",
   "pygments_lexer": "ipython3",
   "version": "3.9.5"
  }
 },
 "nbformat": 4,
 "nbformat_minor": 5
}
